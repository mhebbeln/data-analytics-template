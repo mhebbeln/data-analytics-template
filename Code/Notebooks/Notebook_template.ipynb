{
 "cells": [
  {
   "cell_type": "markdown",
   "id": "2214e7db-14ec-48be-bfe9-faf6aec2fe9e",
   "metadata": {},
   "source": [
    "# Project name"
   ]
  },
  {
   "cell_type": "markdown",
   "id": "ce9159b0-c5d9-4daa-a1b2-7fadea9d6d88",
   "metadata": {},
   "source": [
    "**Author:** Mike Hebbeln  \n",
    "**Last modified:** 11-17-2024 (created: 11-17-2024)  \n",
    "**Description:** Short paragraph explaining this project.  "
   ]
  },
  {
   "cell_type": "markdown",
   "id": "b4025743-b3eb-4997-a8cf-95107519f3f5",
   "metadata": {},
   "source": [
    "<br>"
   ]
  },
  {
   "cell_type": "markdown",
   "id": "867016f0-fa44-428a-9e7b-b19cdafb0966",
   "metadata": {},
   "source": [
    "Import Libraries:"
   ]
  },
  {
   "cell_type": "code",
   "execution_count": 1,
   "id": "5d653e54-d5f3-4b42-9590-de0700cd2714",
   "metadata": {},
   "outputs": [],
   "source": [
    "# Import the necessary libraries for data wrangling, analysis, and visualization.\n",
    "import pandas as pd\n",
    "import numpy as np\n",
    "import matplotlib.pyplot as plt\n",
    "import seaborn as sns"
   ]
  },
  {
   "cell_type": "markdown",
   "id": "78f5726b-1f24-42c3-8c27-0eba27f5b87f",
   "metadata": {},
   "source": [
    "Load Data: "
   ]
  },
  {
   "cell_type": "code",
   "execution_count": 2,
   "id": "f3db5842-659e-4f1b-ba24-3d6c0ca45452",
   "metadata": {},
   "outputs": [],
   "source": [
    "# Load the dataset into the notebook environment from a file or database.\n",
    "# Replace 'your_data_file.csv' with the actual file path to your dataset\n",
    "# data = pd.read_csv('your_data_file.csv')"
   ]
  },
  {
   "cell_type": "markdown",
   "id": "b8dbe16b-f569-4a80-a069-925a8db0e0c0",
   "metadata": {},
   "source": [
    "Inspect Data:"
   ]
  },
  {
   "cell_type": "code",
   "execution_count": 3,
   "id": "3e4ce9bb-b68c-4dfa-85f3-b7090b0e1c8a",
   "metadata": {},
   "outputs": [],
   "source": [
    "# Display basic information about the dataset (e.g., column names, data types, and first few rows).\n",
    "# data.info()\n",
    "# data.head()\n",
    "\n",
    "# Check for unique values in categorical columns (if applicable)\n",
    "# print(data['column_name'].unique())"
   ]
  },
  {
   "cell_type": "markdown",
   "id": "85fb52ae-80ba-431f-9c85-3467d72b14dd",
   "metadata": {},
   "source": [
    "Handle Missing Values:"
   ]
  },
  {
   "cell_type": "code",
   "execution_count": 4,
   "id": "257eccfb-7f24-4423-b8c2-6ef1515d40f9",
   "metadata": {},
   "outputs": [],
   "source": [
    "# Address missing data by dropping rows or filling values with appropriate defaults.\n",
    "\n",
    "# Drop rows with missing values\n",
    "# data = data.dropna()\n",
    "\n",
    "# Fill missing values with specific strategies\n",
    "# data['column_name'].fillna(value, inplace=True)"
   ]
  },
  {
   "cell_type": "markdown",
   "id": "15312177-697f-4d56-bd9b-7ca4bdb6b49e",
   "metadata": {},
   "source": [
    "Clean Data:"
   ]
  },
  {
   "cell_type": "code",
   "execution_count": 5,
   "id": "b6f3fded-2387-4c11-90cc-ec88bbcdb022",
   "metadata": {},
   "outputs": [],
   "source": [
    "# Improve the quality of the data by removing duplicates, renaming columns, or dropping unnecessary columns.\n",
    "\n",
    "# Remove duplicate rows\n",
    "# data = data.drop_duplicates()\n",
    "\n",
    "# Rename columns for clarity\n",
    "# data.rename(columns={'old_name': 'new_name'}, inplace=True)\n",
    "\n",
    "# Drop irrelevant columns (if necessary)\n",
    "# data = data.drop(['column_to_drop'], axis=1)"
   ]
  },
  {
   "cell_type": "markdown",
   "id": "5738d712-b947-4960-9e3b-8c2e0eaf361b",
   "metadata": {},
   "source": [
    "Transform Data:"
   ]
  },
  {
   "cell_type": "code",
   "execution_count": 6,
   "id": "8cda0d51-2e84-425f-a25a-f40e6c3a1189",
   "metadata": {},
   "outputs": [],
   "source": [
    "# Modify data to fit the analysis requirements, such as normalizing values or converting types.\n",
    "\n",
    "# Convert a column to datetime format\n",
    "# data['date_column'] = pd.to_datetime(data['date_column'])\n",
    "\n",
    "# Normalize or scale numerical columns\n",
    "# data['normalized_column'] = (data['column_name'] - data['column_name'].mean()) / data['column_name'].std()"
   ]
  },
  {
   "cell_type": "markdown",
   "id": "3afb7577-f951-412f-9d64-eabc248ed656",
   "metadata": {},
   "source": [
    "Reformat Data:"
   ]
  },
  {
   "cell_type": "code",
   "execution_count": 7,
   "id": "97027839-dceb-4eff-935e-a62a16b95e16",
   "metadata": {},
   "outputs": [],
   "source": [
    "# Reshape the data for easier analysis using pivot tables or by melting columns.\n",
    "\n",
    "# pivot_table = data.pivot_table(index='index_column', values='value_column', aggfunc='mean')\n",
    "\n",
    "# Example: Melting data\n",
    "# melted_data = pd.melt(data, id_vars=['id_column'], value_vars=['value_column1', 'value_column2'])"
   ]
  },
  {
   "cell_type": "markdown",
   "id": "3473d62c-243f-43f3-8f03-0850d25d5393",
   "metadata": {},
   "source": [
    "Save Processed Data:"
   ]
  },
  {
   "cell_type": "code",
   "execution_count": 8,
   "id": "0d8f50cb-32a1-495a-bcef-9dd8356219a0",
   "metadata": {},
   "outputs": [],
   "source": [
    "# Save the cleaned and transformed dataset to a file\n",
    "# data.to_csv('processed_data.csv', index=False)"
   ]
  },
  {
   "cell_type": "markdown",
   "id": "e2287b14-7028-4842-89f9-edd58ba3eb10",
   "metadata": {},
   "source": [
    " Results and Conclusions:"
   ]
  },
  {
   "cell_type": "code",
   "execution_count": 9,
   "id": "2adc8ce5-ce99-438c-9610-18ce09ccbc4a",
   "metadata": {},
   "outputs": [],
   "source": [
    "# Summarize the key findings after wrangling the data.\n",
    "# Mention the structure of the cleaned data and any improvements (e.g., reduced nulls, added clarity in columns).\n",
    "# Note any limitations or next steps (e.g., additional feature engineering or data integration tasks)."
   ]
  },
  {
   "cell_type": "markdown",
   "id": "20b32307-ced2-42c7-88e2-0337e18cfc80",
   "metadata": {},
   "source": [
    "To Do Checklist:"
   ]
  },
  {
   "cell_type": "code",
   "execution_count": 10,
   "id": "283243b2-5489-4896-95df-af8bdc4827a0",
   "metadata": {},
   "outputs": [],
   "source": [
    "# Track tasks that need to be completed or verified during the wrangling process.\n",
    "# Verify all columns have correct data types.\n",
    "# Check for outliers in numerical data.\n",
    "# Document any assumptions made during cleaning and transformations.\n",
    "# Save intermediate versions of cleaned data."
   ]
  }
 ],
 "metadata": {
  "kernelspec": {
   "display_name": "Python 3 (ipykernel)",
   "language": "python",
   "name": "python3"
  },
  "language_info": {
   "codemirror_mode": {
    "name": "ipython",
    "version": 3
   },
   "file_extension": ".py",
   "mimetype": "text/x-python",
   "name": "python",
   "nbconvert_exporter": "python",
   "pygments_lexer": "ipython3",
   "version": "3.11.8"
  }
 },
 "nbformat": 4,
 "nbformat_minor": 5
}
